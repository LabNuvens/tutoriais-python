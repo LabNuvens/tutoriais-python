{
 "cells": [
  {
   "cell_type": "markdown",
   "metadata": {},
   "source": [
    "# 2. Satélite\n",
    "\n",
    "Por: Camila Lopes ([cclopes.netlify.app](cclopes.netlify.app))\n",
    "\n",
    "Neste módulo, iremos aprender a lidar com dados de satélites meteorológicos usando a linguagem Python, passando por leitura, visualização e processamento"
   ]
  },
  {
   "cell_type": "code",
   "execution_count": null,
   "metadata": {},
   "outputs": [],
   "source": [
    "# Importando as bibliotecas necessárias\n"
   ]
  },
  {
   "cell_type": "markdown",
   "metadata": {},
   "source": [
    "## 2.1. Lendo dados de satélite\n",
    "\n",
    "### 2.1.1. Tipos de dados\n",
    "\n",
    "Assim como no módulo 1, é importante entender quais são os tipos de dados gerados por satélites antes de aprender a ler seus dados. Diferente de um radar meteorológico, um satélite costuma ter uma configuração padrão de escaneamento, pois a antena e/ou sensor fica fixo. O que define o escaneamento em si \n",
    "\n",
    "#### Sensores passivos vs ativos\n",
    "\n",
    "#### Órbitas geoestacionária vs polar vs subtropical?"
   ]
  },
  {
   "cell_type": "markdown",
   "metadata": {},
   "source": []
  }
 ],
 "metadata": {
  "kernelspec": {
   "display_name": "Python 3.10.4 64-bit",
   "language": "python",
   "name": "python3"
  },
  "language_info": {
   "name": "python",
   "version": "3.10.6 (main, Nov  2 2022, 18:53:38) [GCC 11.3.0]"
  },
  "orig_nbformat": 4,
  "vscode": {
   "interpreter": {
    "hash": "31f2aee4e71d21fbe5cf8b01ff0e069b9275f58929596ceb00d14d90e3e16cd6"
   }
  }
 },
 "nbformat": 4,
 "nbformat_minor": 2
}
