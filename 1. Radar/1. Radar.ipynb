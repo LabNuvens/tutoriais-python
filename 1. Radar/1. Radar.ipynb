{
 "cells": [
  {
   "cell_type": "markdown",
   "metadata": {},
   "source": [
    "# 1. Radar\n",
    "Por: Camila Lopes ([cclopes.me](https://cclopes.me/))  \n",
    "\n",
    "\n",
    "Neste módulo, iremos aprender a lidar com dados de radares meteorológicos usando a linguagem Python, passando por leitura, visualização e processamento.\n"
   ]
  },
  {
   "cell_type": "code",
   "execution_count": 1,
   "metadata": {},
   "outputs": [
    {
     "name": "stdout",
     "output_type": "stream",
     "text": [
      "\n",
      "## You are using the Python ARM Radar Toolkit (Py-ART), an open source\n",
      "## library for working with weather radar data. Py-ART is partly\n",
      "## supported by the U.S. Department of Energy as part of the Atmospheric\n",
      "## Radiation Measurement (ARM) Climate Research Facility, an Office of\n",
      "## Science user facility.\n",
      "##\n",
      "## If you use this software to prepare a publication, please cite:\n",
      "##\n",
      "##     JJ Helmus and SM Collis, JORS 2016, doi: 10.5334/jors.119\n",
      "\n"
     ]
    }
   ],
   "source": [
    "# Importando as bibliotecas necessárias\n",
    "import pyart"
   ]
  },
  {
   "cell_type": "markdown",
   "metadata": {},
   "source": [
    "## 1.1. Lendo dados de radar"
   ]
  },
  {
   "cell_type": "markdown",
   "metadata": {},
   "source": [
    "### 1.1.1. Tipos de dados\n",
    "Antes de aprender a ler dados de radar, é importante entender quais são os tipos de dados gerados por radares, já que eles podem ser configurados de diversas formas.\n",
    "\n",
    "#### Escaneamento\n",
    "A partir da fabricação do radar, é definido em qual banda ele irá operar e qual será sua configuração de escaneamento. Além de depender da banda de operação, essa configuração vai depender do local em que o radar será instalado e do objetivo dele (monitoramento ou pesquisa).  \n",
    "\n",
    "Radares de monitoramento são de bandas de frequência menor (2 a 8 GHz, Bandas S e C) pois sofrem menos atenuação. Para tirar mais vantagem ainda disso, suas configurações de escaneamento são do tipo **volumétricas**, ou seja, em função do azimute (plano horizontal) e elevação (altura). A resolução temporal varia bastante dependendo principalmente da quantidade de elevações: dependendo do local a ser monitorado, uma quantidade menor ou maior de elevações é feita, com o objetivo final de ter uma resolução temporal razoável para monitoramento em tempo real (em geral essa resolução varia entre 5 e 15 minutos). Os dados gerados por esse tipo de configuração são no formato **PPI** (*Plan Position Indicator*), equivalente a uma matriz tridimensional mas não cartesiana por ser em função do azimute e elevação. Visualizações desses PPIs podem ser feitas no \"plano horizontal\" (imagem de todos os azimutes em uma elevação fixa) ou \"vertical\" (imagem de todas as elevações em um azimute fixo). Para gerar produtos mais simples de serem interpretados, o formato PPI é convertido para **CAPPI** (*Constant Altitude Plan Position Indicator*), agora sim equivalente a uma matriz tridimensional cartesiana (plano horizontal e altura). As visualizações dos CAPPIs podem ser feitas no plano horizontal (altura fixa) ou vertical (eixo x ou y fixo e altura variada).  \n",
    "\n",
    "Radares de pesquisa costumam ser de frequência maior (acima de 8 GHz, Bandas X, K e W) pois, mesmo sofrendo mais atenuação principalmente de gotas de chuva, são mais sensíveis à gotículas de nuvem e cristais de gelo, permitindo estudos de microfísica de nuvens. Além do escaneamento volumétrico, uma configuração interessante para esses estudos é do tipo **setorial**, em que uma região de azimutes é fixada e o escaneamento é feito em função da elevação para cada azimute. Por medir apenas um setor, a resolução temporal pode ser menor que 5 minutos. Os dados gerados por esse tipo de configuração são no formato **RHI** (*Range Height Indicator*), equivalente a uma matriz tridimensional mas não cartesiana por ser em função da elevação e azimute. A visualização de RHIs em geral são feitas no \"plano vertical\" (distância em função da altura), mas também podem ser feitas no \"plano horizontal\" (todos os azimutes disponíveis em função de uma elevação).  \n",
    "\n",
    "Os radares de pesquisa das bandas K e W (acima de 20 GHz) sofrem ainda mais atenuação, de forma que outra configuração de escaneamento que é usada (dependendo da fabricação do radar, é a única configuração disponível) é do tipo **apontamento vertical**, em que, como o nome já diz, a antena fica apontada para cima (ou para baixo, se estiver a bordo de um avião ou satélite), medindo uma mesma região ao longo do tempo. A resolução temporal nessa configuração é na escala de segundos a poucos minutos. Os dados gerados por esse tipo de configuração são no formato **THI** (*Time Height Indicator*), equivalente a uma matriz bidimensional em função da altura e tempo, com a visualização nesse mesmo plano.\n",
    "\n",
    "#### Formato\n",
    "Existem diferentes formatos de arquivos que armazenam os tipos de dados explicados acima. Os principais são:\n",
    "\n",
    "- **Binário** (extensão `.bin` ou sem extensão): este é o formato mais simples de armazenamento. Ele pode ter diferentes tipos de estruturas (com cabeçalho ou não), mas não é possível saber essa estrutura apenas com o arquivo - é preciso ter algum README associado para conseguir abrir o arquivo. Sabendo essa estrutura, é possível abrir esse tipo de arquivo com a função `open` do Python. Como exemplo [baseado neste artigo do Towards Data Science](https://towardsdatascience.com/loading-binary-data-to-numpy-pandas-9caa03eb0672), supondo que a estrutura do arquivo `filename.bin` é simplesmente uma matriz de um nível de CAPPI de 500 x 500 pontos, em que cada ponto é um `integer` de 4 bytes, o código abaixo lê esse arquivo e converte para uma matriz do `numpy`:  \n",
    "\n",
    "```\n",
    "# Carregando a biblioteca\n",
    "import numpy as np\n",
    "\n",
    "# Definindo o formato da matriz\n",
    "dt = np.dtype([('x', '<i4'), ('y', '<i4')])\n",
    "\n",
    "# Abrindo o arquivo\n",
    "with open(\"filename.bin\", \"rb\") as f:\n",
    "    binary_data = f.read()\n",
    "\n",
    "# Convertendo para a matriz\n",
    "np_data = np.frombuffer(binary_data, dt)\n",
    "```\n",
    "\n",
    "Esse tipo de arquivo ainda pode ser encontrado para dados de radar brutos, mas não para dados pré-processados ou processados por terem estruturas cada vez mais complexas e a necessidade de armazenar mais informações além dos dados em si; \n",
    "\n",
    "- **uf** (*Universal Format*, `.uf`): este formato foi desenvolvido nos anos 1970 e era o mais comum para armazenamento e distribuição de dados de radar. Ele foi desenvolvido para ser processado usando a linguagem FORTRAN e possui uma estrutura pré-definida com cabeçalho em caracteres ASCII e conteúdo em `integers` de 16 bits (saiba mais sobre ela no [documento do TITAN sobre o formato uf](https://ral.ucar.edu/projects/titan/docs/radial_formats/UfDoc.txt)). Como a estrutura é conhecida, é possível abrir esse tipo de arquivo no Python da mesma forma que dados binários, mas algumas bibliotecas como [`pyart`](https://arm-doe.github.io/pyart/index.html) possuem [funções que leem arquivos uf](https://arm-doe.github.io/pyart/API/generated/pyart.io.read_uf.html?highlight=read%20uf);\n",
    "\n",
    "- **HDF5** (*Hierarchical Data Format*, `.HDF5`): este formato é utilizado para armazenar grande quantidade de dados de quaisquer dimensões de forma mais organizada, com metadados associados. Diferente dos dados binários, não é preciso saber a estrutura dos dados. Em Python, é necessário usar a função `File()` da biblioteca [`h5py`](https://docs.h5py.org/en/stable/) para abrir esse tipo de arquivo. Algumas bibliotecas que processam dados no formato HDF5 usam essa biblioteca dentro de suas funções;\n",
    "\n",
    "- **NetCDF** (*Network Common Data Form*, `.nc`): este formato foi desenvolvido nos anos 1980 pela [UCAR (*University Corporation for Atmospheric Research*)](https://www.ucar.edu/) especificamente para armazenar e compartilhar dados científicos. Atualmente na versão 4 [mantida pela Unidata](https://www.unidata.ucar.edu/software/netcdf/), ele possui suporte em Java, FORTRAN, C e diversas outras linguagens de programação. Similar ao HDF5, o formato NetCDF armazena dados em quaisquer dimensões com metadados. Existe uma convenção para metadados de meteorologia chamada [CF (*Climate and Forecast*)](http://cfconventions.org/) com o objetivo de padronizar e facilitar o processamento de dados de diversas fontes; para dados de radar, essa convenção é chamada [CfRadial](https://github.com/NCAR/CfRadial). Em Python, é possível abrir esse tipo de arquivo diretamente com a biblioteca [`netCDF4`](https://unidata.github.io/netcdf4-python/netCDF4/index.html), mas diversas bibliotecas usam essa como base para processar dados NetCDF, atualmente sendo recomendável a biblioteca [`xarray`](http://xarray.pydata.org/en/stable/weather-climate.html);\n",
    "\n",
    "- Outros: outros formatos de arquivo estão associados aos softwares dos radares que geraram os dados. As bibliotecas [`pyart`](https://arm-doe.github.io/pyart/index.html) e [`wradlib`](https://docs.wradlib.org/en/stable/index.html) que veremos a seguir tem suporte a diversos formatos como [**MDV**](https://ral.ucar.edu/projects/titan/docs/MDV_XML_ICD.1.0.pdf), [**IRIS** (Vaisala)](ftp://ftp.sigmet.com/outgoing/manuals/), [**GAMIC**](https://www.gamic.com/), [**RAINBOW**](https://www.leonardocompany.com/en/products/rainbow-5-application-software), entre outros.  \n",
    "\n",
    "Sabendo agora quais são os tipos de dados, podemos aprender como ler dados de radar com as bibliotecas Py-ART e wradlib."
   ]
  },
  {
   "cell_type": "markdown",
   "metadata": {},
   "source": [
    "### 1.1.2. Py-ART\n",
    "\n",
    "A biblioteca Py-ART possui dois módulos que leem dados de radar: [`pyart.io`](https://arm-doe.github.io/pyart/API/generated/pyart.io.html) e [`pyart.aux_io`](https://arm-doe.github.io/pyart/API/generated/pyart.aux_io.html). Os dois módulos possuem diversas funções que leem os diferentes tipos de dados explicados acima."
   ]
  },
  {
   "cell_type": "markdown",
   "metadata": {},
   "source": [
    "#### [`pyart.io.read()`](https://arm-doe.github.io/pyart/API/generated/pyart.io.read.html#pyart.io.read)\n",
    "Essa é a função mais básica (*que deve ser usada primeiro*). Ela basicamente identifica qual o tipo de arquivo e lê usando a função correspondente (entre as opções [`read_cfradial()`](https://arm-doe.github.io/pyart/API/generated/pyart.io.read_cfradial.html#pyart.io.read_cfradial), [`read_chl()`](https://arm-doe.github.io/pyart/API/generated/pyart.io.read_chl.html#pyart.io.read_chl), [`read_mdv()`](https://arm-doe.github.io/pyart/API/generated/pyart.io.read_mdv.html#pyart.io.read_mdv), [`read_nexrad_archive()`](https://arm-doe.github.io/pyart/API/generated/pyart.io.read_nexrad_archive.html#pyart.io.read_nexrad_archive), [`read_nexrad_cdm()`](https://arm-doe.github.io/pyart/API/generated/pyart.io.read_nexrad_cdm.html#pyart.io.read_nexrad_cdm), [`read_nexrad_level3()`](https://arm-doe.github.io/pyart/API/generated/pyart.io.read_nexrad_level3.html#pyart.io.read_nexrad_level3), [`read_rsl()`](https://arm-doe.github.io/pyart/API/generated/pyart.io.read_rsl.html#pyart.io.read_rsl), [`read_sigmet()`](https://arm-doe.github.io/pyart/API/generated/pyart.io.read_sigmet.html#pyart.io.read_sigmet) e [`read_uf()`](https://arm-doe.github.io/pyart/API/generated/pyart.io.read_uf.html#pyart.io.read_uf) disponíveis atualmente) de forma que você não precisa usar especificamente uma dessas funções. \n",
    "\n",
    "Como exemplo, o código abaixo lê um arquivo do radar de Presidente Prudente (SP) (do tipo Sigmet (IRIS)) e mostra as principais informações sobre ele. A forma mais rápida de verificar se o arquivo foi lido corretamente é usar a função [`[variável de radar].info()`](https://arm-doe.github.io/pyart/API/generated/pyart.core.Radar.info.html#pyart.core.Radar.info) para obter as informações dos dados. A saída dela mostra os atributos (variáveis, azimute, elevação, parâmetros do instrumento, metadados, etc) com o tipo de dado (`float`, `int`) e forma (quantidade de pontos e dimensões - por exemplo, a variável `reflectivity` tem 2 dimensões, 5760 x 957 pontos)."
   ]
  },
  {
   "cell_type": "code",
   "execution_count": 2,
   "metadata": {},
   "outputs": [
    {
     "name": "stdout",
     "output_type": "stream",
     "text": [
      "altitude: <ndarray of type: float64 and shape: (1,)>\n",
      "altitude_agl: None\n",
      "antenna_transition: None\n",
      "azimuth: <ndarray of type: float32 and shape: (5760,)>\n",
      "elevation: <ndarray of type: float32 and shape: (5760,)>\n",
      "fields:\n",
      "\ttotal_power: <ndarray of type: float32 and shape: (5760, 957)>\n",
      "\treflectivity: <ndarray of type: float32 and shape: (5760, 957)>\n",
      "\tvelocity: <ndarray of type: float32 and shape: (5760, 957)>\n",
      "\tspectrum_width: <ndarray of type: float32 and shape: (5760, 957)>\n",
      "fixed_angle: <ndarray of type: float32 and shape: (16,)>\n",
      "instrument_parameters:\n",
      "\tunambiguous_range: <ndarray of type: float32 and shape: (5760,)>\n",
      "\tprt_mode: <ndarray of type: |S4 and shape: (16,)>\n",
      "\tprt: <ndarray of type: float32 and shape: (5760,)>\n",
      "\tprt_ratio: <ndarray of type: float32 and shape: (5760,)>\n",
      "\tnyquist_velocity: <ndarray of type: float32 and shape: (5760,)>\n",
      "\tradar_beam_width_h: <ndarray of type: float32 and shape: (1,)>\n",
      "\tradar_beam_width_v: <ndarray of type: float32 and shape: (1,)>\n",
      "\tpulse_width: <ndarray of type: float32 and shape: (5760,)>\n",
      "\tprf_flag: <ndarray of type: int16 and shape: (5760,)>\n",
      "latitude: <ndarray of type: float64 and shape: (1,)>\n",
      "longitude: <ndarray of type: float64 and shape: (1,)>\n",
      "nsweeps: 16\n",
      "ngates: 957\n",
      "nrays: 5760\n",
      "radar_calibration: None\n",
      "range: <ndarray of type: float32 and shape: (957,)>\n",
      "scan_rate: None\n",
      "scan_type: ppi\n",
      "sweep_end_ray_index: <ndarray of type: int32 and shape: (16,)>\n",
      "sweep_mode: <ndarray of type: |S20 and shape: (16,)>\n",
      "sweep_number: <ndarray of type: int32 and shape: (16,)>\n",
      "sweep_start_ray_index: <ndarray of type: int32 and shape: (16,)>\n",
      "target_scan_rate: None\n",
      "time: <ndarray of type: float64 and shape: (5760,)>\n",
      "metadata:\n",
      "\tConventions: CF/Radial instrument_parameters\n",
      "\tversion: 1.3\n",
      "\ttitle: \n",
      "\tinstitution: \n",
      "\treferences: \n",
      "\tsource: \n",
      "\thistory: \n",
      "\tcomment: \n",
      "\tinstrument_name: b'Prudente,Brazil'\n",
      "\toriginal_container: sigmet\n",
      "\tsigmet_task_name: b'VOL_SCAN    '\n",
      "\tsigmet_extended_header: false\n",
      "\ttime_ordered: none\n",
      "\trays_missing: 0\n",
      "None\n"
     ]
    }
   ],
   "source": [
    "# Lendo o arquivo\n",
    "dados_pp = pyart.io.read(\"../dados/radar/PP/PPR161225194610.RAWK318\")\n",
    "# Outra opção, se você já souber o formato do arquivo, é a usar a função correspondente\n",
    "# dados_pp = pyart.io.read_sigmet(\"./dados/radar/PP/PPR161225194610.RAWK318\")\n",
    "\n",
    "# Informações sobre o arquivo\n",
    "print(dados_pp.info(level=\"compact\"))"
   ]
  },
  {
   "cell_type": "markdown",
   "metadata": {},
   "source": [
    "#### [`pyart.aux_io.read_[...]()`](https://arm-doe.github.io/pyart/API/generated/pyart.aux_io.html)\n",
    "\n",
    "Se você tentar usar a função `pyart.io.read()` para abrir um arquivo e não funcionar, quer dizer que o arquivo tem um formato diferente dos suportados por essa função, de forma que o próximo passo é usar uma das funções do módulo `pyart.aux_io`. As opções disponíveis atualmente são: [`read_d3r_gcpex_nc()`](https://arm-doe.github.io/pyart/API/generated/pyart.aux_io.read_d3r_gcpex_nc.html#pyart.aux_io.read_d3r_gcpex_nc), [`read_edge_netcdf()`](https://arm-doe.github.io/pyart/API/generated/pyart.aux_io.read_edge_netcdf.html#pyart.aux_io.read_edge_netcdf), [`read_gamic()`](https://arm-doe.github.io/pyart/API/generated/pyart.aux_io.read_gamic.html#pyart.aux_io.read_gamic), [`read_kazr()`](https://arm-doe.github.io/pyart/API/generated/pyart.aux_io.read_kazr.html#pyart.aux_io.read_kazr), [`read_kazr_spectra()`](https://arm-doe.github.io/pyart/API/generated/pyart.aux_io.read_kazr_spectra.html#pyart.aux_io.read_kazr_spectra), [`read_noxp_iphex_nc()`](https://arm-doe.github.io/pyart/API/generated/pyart.aux_io.read_noxp_iphex_nc.html#pyart.aux_io.read_noxp_iphex_nc), [`read_odim_h5()`](https://arm-doe.github.io/pyart/API/generated/pyart.aux_io.read_odim_h5.html#pyart.aux_io.read_odim_h5), [`read_pattern()`](https://arm-doe.github.io/pyart/API/generated/pyart.aux_io.read_pattern.html#pyart.aux_io.read_pattern), [`read_radx()`](https://arm-doe.github.io/pyart/API/generated/pyart.aux_io.read_radx.html#pyart.aux_io.read_radx), [`read_rainbow_wrl()`](https://arm-doe.github.io/pyart/API/generated/pyart.aux_io.read_rainbow_wrl.html#pyart.aux_io.read_rainbow_wrl) e [`read_sinarame_h5()`](https://arm-doe.github.io/pyart/API/generated/pyart.aux_io.read_sinarame_h5.html#pyart.aux_io.read_sinarame_h5). Em um cenário ideal, você terá alguma informação sobre o formato do arquivo que ajude a escolher a função correta, mas como esse nem sempre é o caso, se acostume com a ideia de tentar usar todas e de que nenhuma delas pode funcionar (o que costuma acontecer com radares usados aqui no Brasil).\n",
    "\n",
    "Como exemplos, o código abaixo lê arquivos de dois radares diferentes (São Roque - SP e SIPAM - AM) que tem o mesmo formato GAMIC-HDF5 e mostra suas informações."
   ]
  },
  {
   "cell_type": "code",
   "execution_count": 3,
   "metadata": {},
   "outputs": [
    {
     "name": "stdout",
     "output_type": "stream",
     "text": [
      "DADOS DE SÃO ROQUE\n",
      "altitude: <ndarray of type: float64 and shape: (1,)>\n",
      "altitude_agl: None\n",
      "antenna_transition: None\n",
      "azimuth: <ndarray of type: float32 and shape: (5410,)>\n",
      "elevation: <ndarray of type: float32 and shape: (5410,)>\n",
      "fields:\n",
      "\tcorrected_reflectivity: <ndarray of type: float32 and shape: (5410, 500)>\n",
      "\treflectivity: <ndarray of type: float32 and shape: (5410, 500)>\n",
      "\tcorrected_velocity: <ndarray of type: float32 and shape: (5410, 500)>\n",
      "\tspectrum_width: <ndarray of type: float32 and shape: (5410, 500)>\n",
      "fixed_angle: <ndarray of type: float32 and shape: (15,)>\n",
      "instrument_parameters:\n",
      "\tfrequency: <ndarray of type: float32 and shape: (1,)>\n",
      "\tradar_beam_width_h: <ndarray of type: float32 and shape: (1,)>\n",
      "\tradar_beam_width_v: <ndarray of type: float32 and shape: (1,)>\n",
      "\tpulse_width: <ndarray of type: float32 and shape: (5410,)>\n",
      "\tprt: <ndarray of type: float32 and shape: (5410,)>\n",
      "\tprt_mode: <ndarray of type: <U9 and shape: (15,)>\n",
      "\tprt_ratio: <ndarray of type: float32 and shape: (5410,)>\n",
      "\tunambiguous_range: <ndarray of type: float32 and shape: (5410,)>\n",
      "\tnyquist_velocity: <ndarray of type: float32 and shape: (5410,)>\n",
      "\tn_samples: <ndarray of type: int32 and shape: (5410,)>\n",
      "latitude: <ndarray of type: float64 and shape: (1,)>\n",
      "longitude: <ndarray of type: float64 and shape: (1,)>\n",
      "nsweeps: 15\n",
      "ngates: 500\n",
      "nrays: 5410\n",
      "radar_calibration: None\n",
      "range: <ndarray of type: float32 and shape: (500,)>\n",
      "scan_rate: <ndarray of type: float32 and shape: (5410,)>\n",
      "scan_type: ppi\n",
      "sweep_end_ray_index: <ndarray of type: int32 and shape: (15,)>\n",
      "sweep_mode: <ndarray of type: <U20 and shape: (15,)>\n",
      "sweep_number: <ndarray of type: int32 and shape: (15,)>\n",
      "sweep_start_ray_index: <ndarray of type: int32 and shape: (15,)>\n",
      "target_scan_rate: <ndarray of type: float32 and shape: (15,)>\n",
      "time: <ndarray of type: float64 and shape: (5410,)>\n",
      "metadata:\n",
      "\tConventions: CF/Radial instrument_parameters\n",
      "\tversion: 1.3\n",
      "\ttitle: \n",
      "\tinstitution: \n",
      "\treferences: \n",
      "\tsource: \n",
      "\thistory: \n",
      "\tcomment: \n",
      "\tinstrument_name: \n",
      "\toriginal_container: GAMIC-HDF5\n",
      "\tgamic_version: b'8'\n",
      "\tsets_scheduled: b'15'\n",
      "\tgamic_object: b'PVOL'\n",
      "\tgamic_date: b'2017-03-14T18:30:22.000Z'\n",
      "\tsoftware: b'FROG'\n",
      "\ttemplate_name: b'250km_15elev_600hz'\n",
      "\tsite_name: b'SaoRoque'\n",
      "\thost_name: b'srofrog'\n",
      "\tazimuth_beam: 2.0\n",
      "\televation_beam: 2.0\n",
      "\tsdp_name: b'UNKNOWN SDP'\n",
      "\tsw_version: b'generic-1000:frog-iacit:042913:150040'\n",
      "\tsdp_version: b'HW protocol: 2.1.0; PCI DSP firmware: 5.0.5; PCI FPGA firmware: 5.0.1; IFD FPGA firmware: 5.0.4; ENIGMA software: 1.1.11'\n",
      "\tsimulated: b'off'\n",
      "None\n",
      "\n",
      "DADOS DO SIPAM\n",
      "altitude: <ndarray of type: float64 and shape: (1,)>\n",
      "altitude_agl: None\n",
      "antenna_transition: None\n",
      "azimuth: <ndarray of type: float32 and shape: (4686,)>\n",
      "elevation: <ndarray of type: float32 and shape: (4686,)>\n",
      "fields:\n",
      "\tcorrected_reflectivity: <ndarray of type: float32 and shape: (4686, 480)>\n",
      "\treflectivity: <ndarray of type: float32 and shape: (4686, 480)>\n",
      "\tcorrected_velocity: <ndarray of type: float32 and shape: (4686, 480)>\n",
      "\tspectrum_width: <ndarray of type: float32 and shape: (4686, 480)>\n",
      "fixed_angle: <ndarray of type: float32 and shape: (13,)>\n",
      "instrument_parameters:\n",
      "\tfrequency: <ndarray of type: float32 and shape: (1,)>\n",
      "\tradar_beam_width_h: <ndarray of type: float32 and shape: (1,)>\n",
      "\tradar_beam_width_v: <ndarray of type: float32 and shape: (1,)>\n",
      "\tpulse_width: <ndarray of type: float32 and shape: (4686,)>\n",
      "\tprt: <ndarray of type: float32 and shape: (4686,)>\n",
      "\tprt_mode: <ndarray of type: <U9 and shape: (13,)>\n",
      "\tprt_ratio: <ndarray of type: float32 and shape: (4686,)>\n",
      "\tunambiguous_range: <ndarray of type: float32 and shape: (4686,)>\n",
      "\tnyquist_velocity: <ndarray of type: float32 and shape: (4686,)>\n",
      "\tn_samples: <ndarray of type: int32 and shape: (4686,)>\n",
      "latitude: <ndarray of type: float64 and shape: (1,)>\n",
      "longitude: <ndarray of type: float64 and shape: (1,)>\n",
      "nsweeps: 13\n",
      "ngates: 480\n",
      "nrays: 4686\n",
      "radar_calibration: None\n",
      "range: <ndarray of type: float32 and shape: (480,)>\n",
      "scan_rate: <ndarray of type: float32 and shape: (4686,)>\n",
      "scan_type: ppi\n",
      "sweep_end_ray_index: <ndarray of type: int32 and shape: (13,)>\n",
      "sweep_mode: <ndarray of type: <U20 and shape: (13,)>\n",
      "sweep_number: <ndarray of type: int32 and shape: (13,)>\n",
      "sweep_start_ray_index: <ndarray of type: int32 and shape: (13,)>\n",
      "target_scan_rate: <ndarray of type: float32 and shape: (13,)>\n",
      "time: <ndarray of type: float64 and shape: (4686,)>\n",
      "metadata:\n",
      "\tConventions: CF/Radial instrument_parameters\n",
      "\tversion: 1.3\n",
      "\ttitle: \n",
      "\tinstitution: \n",
      "\treferences: \n",
      "\tsource: \n",
      "\thistory: \n",
      "\tcomment: \n",
      "\tinstrument_name: \n",
      "\toriginal_container: GAMIC-HDF5\n",
      "\tgamic_version: b'8'\n",
      "\tsets_scheduled: b'17'\n",
      "\tgamic_object: b'PVOL'\n",
      "\tgamic_date: b'2014-01-03T11:12:07.000Z'\n",
      "\tsoftware: b'FROG'\n",
      "\ttemplate_name: b'scan_vmet'\n",
      "\tsite_name: b'Manaus'\n",
      "\thost_name: b'rdc-sbmn'\n",
      "\tazimuth_beam: 0.9599999785423279\n",
      "\televation_beam: 0.9300000071525574\n",
      "\tsdp_name: b'UNKNOWN SDP'\n",
      "\tsw_version: b'generic-1000:gamic:012313:151557'\n",
      "\tsdp_version: b'HW protocol: 2.1.0; PCI DSP firmware: 5.0.5; PCI FPGA firmware: 5.0.1; IFD FPGA firmware: 5.0.2; ENIGMA software: 1.1.17'\n",
      "\tsimulated: b'off'\n",
      "None\n"
     ]
    }
   ],
   "source": [
    "# Lendo o arquivo\n",
    "dados_sr = pyart.aux_io.read_gamic(\"../dados/radar/SR/SRO-250--2017-03-14--18-30-22.mvol\")\n",
    "dados_sipam = pyart.aux_io.read_gamic(\"../dados/radar/SIPAM/RADL08061720140103111200.HDF5\")\n",
    "\n",
    "# Informações sobre o arquivo\n",
    "print(\"DADOS DE SÃO ROQUE\")\n",
    "print(dados_sr.info(level=\"compact\"))\n",
    "print(\"\\nDADOS DO SIPAM\")\n",
    "print(dados_sipam.info(level=\"compact\"))"
   ]
  },
  {
   "cell_type": "markdown",
   "metadata": {},
   "source": [
    "#### Outros (se nada der certo...)\n",
    "\n",
    "Se nenhuma das opções acima funcionar, é hora de investigar. É difícil encontrar um formato de dados de radar que não esteja incluído em uma das funções citadas anteriormente, de forma que o que geralmente gera erro é diferenças nos nomes dos atributos ou variáveis. Isso acontece porque essas funções supõem que o arquivo tem uma estrutura com certos nomes pré-definidos (para radares americanos), que podem ser diferentes dos configurados nos radares brasileiros. Por exemplo, ao tentar um arquivo do radar de apontamento vertical MIRA (ATTO-Campina - AM) (que possui configuração similar ao radar KAZR do ARM) com a função correspondente (código abaixo), é gerado um erro `KeyError` associado ao atributo de latitude. Nesse caso, o atributo no arquivo do MIRA não é uma variável chamada `'lat'` (como esperado pelo comando `latitude = cfradial._ncvar_to_dict(ncvars['lat'])`) e sim uma subclasse do objeto (`ncobj.Latitude`)."
   ]
  },
  {
   "cell_type": "code",
   "execution_count": 4,
   "metadata": {},
   "outputs": [
    {
     "ename": "KeyError",
     "evalue": "'lat'",
     "output_type": "error",
     "traceback": [
      "\u001b[0;31m\u001b[0m",
      "\u001b[0;31mKeyError\u001b[0mTraceback (most recent call last)",
      "\u001b[0;32m<ipython-input-4-bdc385f9a68c>\u001b[0m in \u001b[0;36m<module>\u001b[0;34m\u001b[0m\n\u001b[0;32m----> 1\u001b[0;31m \u001b[0mpyart\u001b[0m\u001b[0;34m.\u001b[0m\u001b[0maux_io\u001b[0m\u001b[0;34m.\u001b[0m\u001b[0mread_kazr\u001b[0m\u001b[0;34m(\u001b[0m\u001b[0;34m\"../dados/radar/MIRA_CAMPINA/20200306_0100.mmclx\"\u001b[0m\u001b[0;34m)\u001b[0m\u001b[0;34m\u001b[0m\u001b[0;34m\u001b[0m\u001b[0m\n\u001b[0m",
      "\u001b[0;32m~/miniconda3/envs/py37/lib/python3.7/site-packages/pyart/aux_io/arm_vpt.py\u001b[0m in \u001b[0;36mread_kazr\u001b[0;34m(filename, field_names, additional_metadata, file_field_names, exclude_fields, include_fields)\u001b[0m\n\u001b[1;32m     95\u001b[0m     \u001b[0;31m# longitude -> lon\u001b[0m\u001b[0;34m\u001b[0m\u001b[0;34m\u001b[0m\u001b[0;34m\u001b[0m\u001b[0m\n\u001b[1;32m     96\u001b[0m     \u001b[0;31m# altitdue -> alt\u001b[0m\u001b[0;34m\u001b[0m\u001b[0;34m\u001b[0m\u001b[0;34m\u001b[0m\u001b[0m\n\u001b[0;32m---> 97\u001b[0;31m     \u001b[0mlatitude\u001b[0m \u001b[0;34m=\u001b[0m \u001b[0mcfradial\u001b[0m\u001b[0;34m.\u001b[0m\u001b[0m_ncvar_to_dict\u001b[0m\u001b[0;34m(\u001b[0m\u001b[0mncvars\u001b[0m\u001b[0;34m[\u001b[0m\u001b[0;34m'lat'\u001b[0m\u001b[0;34m]\u001b[0m\u001b[0;34m)\u001b[0m\u001b[0;34m\u001b[0m\u001b[0;34m\u001b[0m\u001b[0m\n\u001b[0m\u001b[1;32m     98\u001b[0m     \u001b[0mlongitude\u001b[0m \u001b[0;34m=\u001b[0m \u001b[0mcfradial\u001b[0m\u001b[0;34m.\u001b[0m\u001b[0m_ncvar_to_dict\u001b[0m\u001b[0;34m(\u001b[0m\u001b[0mncvars\u001b[0m\u001b[0;34m[\u001b[0m\u001b[0;34m'lon'\u001b[0m\u001b[0;34m]\u001b[0m\u001b[0;34m)\u001b[0m\u001b[0;34m\u001b[0m\u001b[0;34m\u001b[0m\u001b[0m\n\u001b[1;32m     99\u001b[0m     \u001b[0maltitude\u001b[0m \u001b[0;34m=\u001b[0m \u001b[0mcfradial\u001b[0m\u001b[0;34m.\u001b[0m\u001b[0m_ncvar_to_dict\u001b[0m\u001b[0;34m(\u001b[0m\u001b[0mncvars\u001b[0m\u001b[0;34m[\u001b[0m\u001b[0;34m'alt'\u001b[0m\u001b[0;34m]\u001b[0m\u001b[0;34m)\u001b[0m\u001b[0;34m\u001b[0m\u001b[0;34m\u001b[0m\u001b[0m\n",
      "\u001b[0;31mKeyError\u001b[0m: 'lat'"
     ]
    }
   ],
   "source": [
    "pyart.aux_io.read_kazr(\"../dados/radar/MIRA_CAMPINA/20200306_0100.mmclx\")"
   ]
  },
  {
   "cell_type": "markdown",
   "metadata": {},
   "source": [
    "A solução para corrigir esse problema é modificar a função de leitura, adaptando para esse formato dos dados. Nesse caso, eu precisei modificar vários outros trechos a ponto de criar uma nova função, chamada `read_mira()`, que está no arquivo `read_mira_radar.py`. O código abaixo usa essa função."
   ]
  },
  {
   "cell_type": "code",
   "execution_count": 5,
   "metadata": {},
   "outputs": [
    {
     "name": "stderr",
     "output_type": "stream",
     "text": [
      "/home/idies/miniconda3/envs/py37/lib/python3.7/site-packages/pywt/_utils.py:6: DeprecationWarning: Using or importing the ABCs from 'collections' instead of from 'collections.abc' is deprecated, and in 3.8 it will stop working\n",
      "  from collections import Iterable\n",
      "/home/idies/workspace/Storage/camila_lopes/LabNuvens/tutoriais-python/1. Radar/read_mira_radar.py:225: RuntimeWarning: invalid value encountered in log10\n",
      "  fields[field_name][\"data\"]\n"
     ]
    },
    {
     "data": {
      "text/plain": [
       "{'convention': 'CF-1.0',\n",
       " 'location': 'ATTO Campina',\n",
       " 'Altitude': '37m',\n",
       " 'Latitude': '02.1814S',\n",
       " 'Longitude': '59.0218W',\n",
       " 'system': 'C5XC',\n",
       " 'title': 'MIRA Cloud Radar Data',\n",
       " 'institution': 'USP',\n",
       " 'source': '200306_010004.pds.off',\n",
       " 'reference': 'Ka Band Cloud Radar MIRA, METEK GmbH www.metek.de',\n",
       " 'ppar': 'PRF:        5000\\nPDR:         208\\nSFT:         256\\nAVC:         200\\nIHP:           2\\nCHG:         511\\nPOL:         208\\nATT:        1500\\nTX:           0\\nADCGAIN0:      0.00000\\nADCGAIN1:      0.00000\\nWND:           0\\nPOS: -2147483424\\nADD:          48\\nLEN:           0\\nCAL:          96\\nNOS: -2147483648\\nOF0:          42\\nOF1:           0\\nSWT:           0\\nSUM:           0\\nOSC:          26\\nTST:           0\\nCOR:           1\\nOFS:           0\\nHSBN:           0\\nHSBA:           1\\nCALIBRPOWER_M:      1.00000\\nCALIBRSNR_M:      281.838\\nCALIBRPOWER_S:      1.00000\\nCALIBRSNR_S:      234.423\\nRAW_GATE1:           2\\nRAW_GATE2:         511\\nRAW:           0\\nPRC:           1\\n',\n",
       " 'hrd': 'NAME:200306_010004.pds.off\\nOPER:Fri Mar  6 01:00:04 2020\\nMULTI00\\nDESCR:Altitude=37m:Latitude=02.1814S:Longitude=59.0218W\\nPLACE:ATTO Campina\\nSN:fzk\\nLEN_PPAR:         140\\nLEN_SRVI:          -1\\nPRF:      5000.00\\nPULSE_WIDTH:  2.08000e-07\\nRX_PULSEWIDTH:  2.08000e-07\\nTX_PULSEWIDTH:  2.08000e-07\\nNFFT:         256\\nAVC:         200\\nAVE:      10.2400\\nC:  2.99800e+08\\nXMT:  3.51000e+10\\nFZK100:      1.00000\\nDELTA_H:      31.1792\\nMOM_H_MIN:      62.3584\\nMOM_ZRG:         509\\nRAW_H_MIN:      62.3584\\nRAW_ZRG:         509\\nDO_RAW:           0\\nVUAR:      21.3533\\nVNY:      10.6766\\nLA:   0.00854131\\nPOL:       1\\nATT:        1500\\n',\n",
       " 'Copywright': '',\n",
       " 'Copywright_Owner': '',\n",
       " 'notes': 'It is accounted for the Receiver Bwd Loss in Radarconst*, and Z*.',\n",
       " 'n_gates_vary': 'false',\n",
       " 'volume_number': 0,\n",
       " 'platform_type': 'fixed',\n",
       " 'instrument_type': 'radar',\n",
       " 'primary_axis': 'axis_z'}"
      ]
     },
     "execution_count": 5,
     "metadata": {},
     "output_type": "execute_result"
    }
   ],
   "source": [
    "# Importando a função\n",
    "from read_mira_radar import read_mira\n",
    "\n",
    "# Lendo o arquivo\n",
    "dados_mira = read_mira(\"../dados/radar/MIRA_CAMPINA/20200306_0100.mmclx\")[0]\n",
    "\n",
    "# Informações sobre o arquivo\n",
    "dados_mira.metadata"
   ]
  },
  {
   "cell_type": "markdown",
   "metadata": {},
   "source": [
    "Outros radares cujos dados não conseguem ser lidos pelas funções do Py-ART são o da FCTH (Salesópolis - SP) e o XPOL do Projeto CHUVA (já instalado em Manaus - AM, Campinas - SP e São Borja - RS). Os dados \"brutos\" deles estão no formato RAINBOW (separados por variável), que podem ser convertidos para HDF5-GAMIC com um [conversor desenvolvido pelo Dr. Thiago Biscaro (DSA/CPTEC/INPE)](https://github.com/tsbiscaro/Rainbow5_to_HDF5). Para abrir esses dados no formato GAMIC, é necessário uma versão modificada da `read_gamic()`, chamada `read_rainbow_hdf5()`, que está no arquivo `read_brazil_radar_py3.py`. O código abaixo lê e mostra informações dos arquivos dos dois radares."
   ]
  },
  {
   "cell_type": "code",
   "execution_count": 6,
   "metadata": {},
   "outputs": [
    {
     "name": "stdout",
     "output_type": "stream",
     "text": [
      "DADOS DO FCTH\n",
      "altitude: <ndarray of type: float64 and shape: (1,)>\n",
      "altitude_agl: None\n",
      "antenna_transition: None\n",
      "azimuth: <ndarray of type: float64 and shape: (2880,)>\n",
      "elevation: <ndarray of type: float64 and shape: (2880,)>\n",
      "fields:\n",
      "\tcorrected_reflectivity: <ndarray of type: float64 and shape: (2880, 960)>\n",
      "\treflectivity: <ndarray of type: float64 and shape: (2880, 960)>\n",
      "\tvelocity: <ndarray of type: float64 and shape: (2880, 960)>\n",
      "\tspectrum_width: <ndarray of type: float64 and shape: (2880, 960)>\n",
      "\tdifferential_reflectivity: <ndarray of type: float64 and shape: (2880, 960)>\n",
      "\tfiltered_differential_phase: <ndarray of type: float64 and shape: (2880, 960)>\n",
      "\tdifferential_phase: <ndarray of type: float64 and shape: (2880, 960)>\n",
      "\tspecific_differential_phase: <ndarray of type: float64 and shape: (2880, 960)>\n",
      "\tcross_correlation_ratio: <ndarray of type: float64 and shape: (2880, 960)>\n",
      "fixed_angle: <ndarray of type: float64 and shape: (8,)>\n",
      "instrument_parameters:\n",
      "\tnyquist_velocity: <ndarray of type: float64 and shape: (2880,)>\n",
      "\tunambiguous_range: <ndarray of type: float64 and shape: (2880,)>\n",
      "latitude: <ndarray of type: float64 and shape: (1,)>\n",
      "longitude: <ndarray of type: float64 and shape: (1,)>\n",
      "nsweeps: 8\n",
      "ngates: 960\n",
      "nrays: 2880\n",
      "radar_calibration: None\n",
      "range: <ndarray of type: float32 and shape: (960,)>\n",
      "scan_rate: None\n",
      "scan_type: ppi\n",
      "sweep_end_ray_index: <ndarray of type: int64 and shape: (8,)>\n",
      "sweep_mode: <ndarray of type: <U10 and shape: (8,)>\n",
      "sweep_number: <ndarray of type: int32 and shape: (8,)>\n",
      "sweep_start_ray_index: <ndarray of type: int64 and shape: (8,)>\n",
      "target_scan_rate: None\n",
      "time: <ndarray of type: float64 and shape: (2880,)>\n",
      "metadata:\n",
      "\tConventions: CF/Radial instrument_parameters\n",
      "\tversion: 1.3\n",
      "\ttitle: \n",
      "\tinstitution: \n",
      "\treferences: \n",
      "\tsource: Brazil Radar\n",
      "\thistory: \n",
      "\tcomment: \n",
      "\tinstrument_name: \n",
      "\toriginal_container: ../dados/radar/FCTH/PNOVA2-20170314182730.HDF5\n",
      "None\n",
      "\n",
      "DADOS DO XPOL\n",
      "altitude: <ndarray of type: float64 and shape: (1,)>\n",
      "altitude_agl: None\n",
      "antenna_transition: None\n",
      "azimuth: <ndarray of type: float64 and shape: (6120,)>\n",
      "elevation: <ndarray of type: float64 and shape: (6120,)>\n",
      "fields:\n",
      "\tcorrected_reflectivity: <ndarray of type: float64 and shape: (6120, 500)>\n",
      "\treflectivity: <ndarray of type: float64 and shape: (6120, 500)>\n",
      "\tvelocity: <ndarray of type: float64 and shape: (6120, 500)>\n",
      "\tspectrum_width: <ndarray of type: float64 and shape: (6120, 500)>\n",
      "\tdifferential_reflectivity: <ndarray of type: float64 and shape: (6120, 500)>\n",
      "\tfiltered_differential_phase: <ndarray of type: float64 and shape: (6120, 500)>\n",
      "\tdifferential_phase: <ndarray of type: float64 and shape: (6120, 500)>\n",
      "\tspecific_differential_phase: <ndarray of type: float64 and shape: (6120, 500)>\n",
      "\tcross_correlation_ratio: <ndarray of type: float64 and shape: (6120, 500)>\n",
      "fixed_angle: <ndarray of type: float64 and shape: (17,)>\n",
      "instrument_parameters:\n",
      "\tnyquist_velocity: <ndarray of type: float64 and shape: (6120,)>\n",
      "\tunambiguous_range: <ndarray of type: float64 and shape: (6120,)>\n",
      "latitude: <ndarray of type: float64 and shape: (1,)>\n",
      "longitude: <ndarray of type: float64 and shape: (1,)>\n",
      "nsweeps: 17\n",
      "ngates: 500\n",
      "nrays: 6120\n",
      "radar_calibration: None\n",
      "range: <ndarray of type: float32 and shape: (500,)>\n",
      "scan_rate: None\n",
      "scan_type: ppi\n",
      "sweep_end_ray_index: <ndarray of type: int64 and shape: (17,)>\n",
      "sweep_mode: <ndarray of type: <U10 and shape: (17,)>\n",
      "sweep_number: <ndarray of type: int32 and shape: (17,)>\n",
      "sweep_start_ray_index: <ndarray of type: int64 and shape: (17,)>\n",
      "target_scan_rate: None\n",
      "time: <ndarray of type: float64 and shape: (6120,)>\n",
      "metadata:\n",
      "\tConventions: CF/Radial instrument_parameters\n",
      "\tversion: 1.3\n",
      "\ttitle: \n",
      "\tinstitution: \n",
      "\treferences: \n",
      "\tsource: Brazil Radar\n",
      "\thistory: \n",
      "\tcomment: \n",
      "\tinstrument_name: \n",
      "\toriginal_container: ../dados/radar/XPOL_CMP/117BRX-20171115215006.HDF5\n",
      "None\n"
     ]
    }
   ],
   "source": [
    "# Importando a função\n",
    "from read_brazil_radar_py3 import read_rainbow_hdf5\n",
    "\n",
    "# Lendo os arquivos\n",
    "dados_fcth = read_rainbow_hdf5(\"../dados/radar/FCTH/PNOVA2-20170314182730.HDF5\")\n",
    "dados_xpol = read_rainbow_hdf5(\"../dados/radar/XPOL_CMP/117BRX-20171115215006.HDF5\")\n",
    "\n",
    "# Informações sobre os arquivos\n",
    "print(\"DADOS DO FCTH\")\n",
    "print(dados_fcth.info(level=\"compact\"))\n",
    "print(\"\\nDADOS DO XPOL\")\n",
    "print(dados_xpol.info(level=\"compact\"))"
   ]
  },
  {
   "cell_type": "markdown",
   "metadata": {},
   "source": [
    "Um último exemplo é de dados de CAPPIs do radar do SIPAM (AM) processados no período do GoAmazon (disponíveis no [repositório do ARM](https://adc.arm.gov/discovery/#/results/instrument_class_code::sipam-s-band-cappi)). O formato desses dados é similar aos dados em grade gerados pelo Py-ART, que são lidos com a função [`pyart.io.read_grid()`](https://arm-doe.github.io/pyart/API/generated/pyart.io.read_grid.htm). A função `read_sipam_cappi()` do arquivo `read_sipam_cappis.py` é uma adaptação dessa função original. O código abaixo lê o arquivo e mostra suas informações."
   ]
  },
  {
   "cell_type": "code",
   "execution_count": 7,
   "metadata": {},
   "outputs": [
    {
     "data": {
      "text/plain": [
       "{'Conventions': 'CF-1.0',\n",
       " 'history': 'Applying azimuth offset: 0, time 2017/08/25 17:37:11\\nApplying elevation offset: 0, time 2017/08/25 17:37:11\\n',\n",
       " 'institution': 'SIPAM/Texas A&M University',\n",
       " 'references': 'http://atmo.tamu.edu/goamazon-sband-radar',\n",
       " 'source': '',\n",
       " 'title': 'unknown',\n",
       " 'comment': 'v2.0a; Created at Texas A&M University (cschu@tamu.edu)'}"
      ]
     },
     "execution_count": 7,
     "metadata": {},
     "output_type": "execute_result"
    }
   ],
   "source": [
    "# Importando a função\n",
    "from read_sipam_cappis import read_sipam_cappi\n",
    "\n",
    "# Lendo o arquivo\n",
    "dados_sipam_cappi = read_sipam_cappi(\"../dados/radar/SIPAM/sbmn_cappi_20140103_120016.nc\")\n",
    "\n",
    "# Informações sobre o arquivo\n",
    "dados_sipam_cappi.metadata"
   ]
  },
  {
   "cell_type": "markdown",
   "metadata": {},
   "source": [
    "### 1.1.3. wrablib"
   ]
  },
  {
   "cell_type": "markdown",
   "metadata": {},
   "source": [
    "## 1.2. Visualizando dados de radar"
   ]
  },
  {
   "cell_type": "markdown",
   "metadata": {},
   "source": [
    "### 1.2.1. Py-ART"
   ]
  },
  {
   "cell_type": "markdown",
   "metadata": {},
   "source": [
    "### 1.2.2. wradlib"
   ]
  },
  {
   "cell_type": "markdown",
   "metadata": {},
   "source": [
    "## 1.3. Processando dados de radar"
   ]
  },
  {
   "cell_type": "markdown",
   "metadata": {},
   "source": [
    "### 1.3.1. Py-ART"
   ]
  },
  {
   "cell_type": "markdown",
   "metadata": {},
   "source": [
    "### 1.3.2. Py-ART + outras bibliotecas"
   ]
  },
  {
   "cell_type": "markdown",
   "metadata": {},
   "source": [
    "### 1.3.3. wradlib"
   ]
  }
 ],
 "metadata": {
  "kernelspec": {
   "display_name": "Python 3.7 (py37)",
   "language": "python",
   "name": "py37"
  },
  "language_info": {
   "codemirror_mode": {
    "name": "ipython",
    "version": 3
   },
   "file_extension": ".py",
   "mimetype": "text/x-python",
   "name": "python",
   "nbconvert_exporter": "python",
   "pygments_lexer": "ipython3",
   "version": "3.7.4"
  }
 },
 "nbformat": 4,
 "nbformat_minor": 4
}
